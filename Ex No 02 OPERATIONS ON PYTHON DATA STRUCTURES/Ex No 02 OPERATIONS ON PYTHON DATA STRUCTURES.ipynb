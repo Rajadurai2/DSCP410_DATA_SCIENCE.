{
 "cells": [
  {
   "cell_type": "markdown",
   "id": "a14826c2",
   "metadata": {},
   "source": [
    "##### AIM: \n",
    "To develop Python programs to perform operations on Python Data Structures such as String, List, Tuple, Dictionary, and Set.\n"
   ]
  },
  {
   "cell_type": "markdown",
   "id": "b1e515d3",
   "metadata": {},
   "source": [
    "#####  STRINGS"
   ]
  },
  {
   "cell_type": "code",
   "execution_count": 44,
   "id": "68a09f4e",
   "metadata": {},
   "outputs": [
    {
     "name": "stdout",
     "output_type": "stream",
     "text": [
      "Enter the First word: brainy\n",
      "Enter the Second word: binary\n",
      "The given strings brainy and binary are anagram words\n"
     ]
    }
   ],
   "source": [
    "# Define a function to test if two strings are anagrams\n",
    "def fn_test_anagram(string1, string2):\n",
    "    # Convert both input strings to lowercase and sort them alphabetically\n",
    "    string1_sorted = sorted(string1.lower())\n",
    "    string2_sorted = sorted(string2.lower())\n",
    "    # Compare the sorted strings, return True if they are identical\n",
    "    return string1_sorted == string2_sorted\n",
    "\n",
    "# Only run the following code if the script is being run directly\n",
    "if __name__ == \"__main__\":\n",
    "    # Get input from the user for two strings\n",
    "    input1 = input(\"Enter the First word: \")\n",
    "    input2 = input(\"Enter the Second word: \")\n",
    "    # Check if the input strings are anagrams\n",
    "    result = fn_test_anagram(input1, input2)\n",
    "    # Print appropriate message based on the result\n",
    "    if result==True:\n",
    "        print(f\"The given strings {input1} and {input2} are anagram words\")\n",
    "    else:\n",
    "        print(f\"The given strings {input1} and {input2} are not anagram words\")\n"
   ]
  },
  {
   "cell_type": "markdown",
   "id": "c1298754",
   "metadata": {},
   "source": [
    "##### DICTIONARY, LIST"
   ]
  },
  {
   "cell_type": "code",
   "execution_count": 40,
   "id": "5568cc28",
   "metadata": {},
   "outputs": [
    {
     "name": "stdout",
     "output_type": "stream",
     "text": [
      "\n",
      "Given string :\n",
      "\t She sells seashells on the sea shore. The shells she sells are seashells, I'm sure. And if she sells seashells on the sea shore, Then I'm sure she sells seashore shells.\n",
      "Enter the word to count :the\n",
      "the  =  3 times\n"
     ]
    }
   ],
   "source": [
    "def fn_clean_string(test_string, list_to_remove):\n",
    "    test_string = test_string.lower() #convert the test_string to lowercase\n",
    "    for item in list_to_remove:\n",
    "        test_string = test_string.replace(item, \"\") #replace the items in list_to_remove with empty string\n",
    "    return test_string\n",
    "\n",
    "def fn_word_frequency(test_string):\n",
    "    word_list = test_string.split() #split the string into list of words\n",
    "    word_count = []\n",
    "    for word in word_list:\n",
    "        word_count.append(word_list.count(word)) #count the frequency of each word in the word_list\n",
    "    word_freq_dict = dict(list(zip(word_list, word_count))) #create a dictionary with words as keys and frequency as values\n",
    "    return word_freq_dict\n",
    "\n",
    "def fn_display_count(test_word, word_freq_dict):\n",
    "    test_word = test_word.lower() #convert the test_word to lowercase\n",
    "    if test_word in word_freq_dict.keys():\n",
    "        return word_freq_dict[test_word] #return the frequency of test_word from the dictionary\n",
    "    else:\n",
    "        return 0 #if test_word is not in the dictionary, return 0\n",
    "if __name__ == \"__main__\":\n",
    "    input_string = \"She sells seashells on the sea shore. The shells she sells are seashells, I'm sure. And if she sells seashells on the sea shore, Then I'm sure she sells seashore shells.\"\n",
    "    list_to_remove = [\".\", \",\", \"?\"]\n",
    "    # Define the input string and list of characters to remove\n",
    "    print(\"\\nGiven string :\\n\\t\",input_string)\n",
    "    clean_string = fn_clean_string(input_string, list_to_remove)\n",
    "    # Call the fn_clean_string function to remove the characters from the input string\n",
    "    word_freq_dict = fn_word_frequency(clean_string)\n",
    "    # Call the fn_word_frequency function to get the frequency of each word in the cleaned string\n",
    "    test_word = str(input(\"Enter the word to count :\"))\n",
    "    # Define a test word\n",
    "    count=fn_display_count(test_word, word_freq_dict)\n",
    "    print(test_word,\" = \",count,\"times\")\n",
    "    # Call the fn_display_count function to get the frequency of the test word in the frequency dictionary and print it\n"
   ]
  },
  {
   "cell_type": "markdown",
   "id": "7b295aec",
   "metadata": {},
   "source": [
    "##### TUPLES, LIST"
   ]
  },
  {
   "cell_type": "code",
   "execution_count": 41,
   "id": "ef0ac903",
   "metadata": {},
   "outputs": [
    {
     "name": "stdout",
     "output_type": "stream",
     "text": [
      "The players List : \t Zaheer Khan,\tSreesanth,\tMunaf Patel,\tHarbhajan Singh,\tYuvraj Singh,\tSachin Tendulkar,\tVirat Kohli,\tChoose Any player :ms dhoni\n",
      "ms dhoni did not bowl in this match\n"
     ]
    }
   ],
   "source": [
    "# Define lambda function to calculate economy rate\n",
    "Economy_rate = lambda a, b : round(a/b, 2)\n",
    "\n",
    "# Define function to create list of tuples containing player statistics\n",
    "def fn_create_tuple():\n",
    "    data_list = [( \"Zaheer Khan\", 10, 3, 60, 2),( \"Sreesanth\", 8, 0, 52, 0),( \"Munaf Patel\", 9, 0, 41, 0),\n",
    "                 ( \"Harbhajan Singh\", 10, 0, 50, 1) ,( \"Yuvraj Singh\", 10, 0, 49, 2),( \"Sachin Tendulkar\", 2, 0, 12, 0),( \"Virat Kohli\", 1, 0, 6, 0)]\n",
    "    return data_list\n",
    "\n",
    "# Define function to print player names\n",
    "def fn_print_names(data_list):\n",
    "    for tup in data_list:\n",
    "        print(tup[0],end=\",\\t\")\n",
    "\n",
    "# Define function to inspect player statistics\n",
    "def fn_inspect(player_name, data_list):\n",
    "    wickets, economy = None, None\n",
    "    for data_tuple in data_list:\n",
    "        if player_name in data_tuple:\n",
    "             wickets = data_tuple[4]\n",
    "             economy = Economy_rate(data_tuple[3], data_tuple[1])\n",
    "        if wickets != None:\n",
    "             result_str = player_name + \" picked up \" + str(wickets) +\" wickets at an Economy of \" +str(economy) + \" RPO\"\n",
    "        else:\n",
    "            result_str = player_name + \" did not bowl in this match\"\n",
    "    return result_str\n",
    "\n",
    "# Main function\n",
    "if __name__ == \"__main__\":\n",
    "    data_list = fn_create_tuple()\n",
    "    print(\"The players List : \\t\",end=\" \")\n",
    "    fn_print_names(data_list)\n",
    "    player_name = str(input(\"Choose Any player :\"))\n",
    "    result_str = fn_inspect(player_name, data_list)\n",
    "    print(result_str)\n"
   ]
  },
  {
   "cell_type": "markdown",
   "id": "378dfea3",
   "metadata": {},
   "source": [
    "##### SET, LIST"
   ]
  },
  {
   "cell_type": "code",
   "execution_count": 43,
   "id": "e6c99652",
   "metadata": {},
   "outputs": [
    {
     "name": "stdout",
     "output_type": "stream",
     "text": [
      "Enter the list of numbers with commas\n",
      "Enter the first list :1,2\n",
      "Enter the second list :2,3\n",
      "List without duplicates :\n",
      "List1= [1, 2]\n",
      "List2= [2, 3]\n",
      "Common Between Two Lists : [2]\n"
     ]
    }
   ],
   "source": [
    "# Define a function to remove duplicates from a list\n",
    "def fn_dedup(x):\n",
    "     # Convert the input list to a set, then back to a list to remove duplicates\n",
    "     return(list(set(x)))\n",
    "\n",
    "# Define a function to find common elements in two lists\n",
    "def fn_find_common(x, y):\n",
    "     # Convert the input lists to sets, then find the intersection between the two sets\n",
    "     return(list(set(x).intersection(set(y))))\n",
    "\n",
    "if __name__ == \"__main__\":\n",
    "    # Prompt the user to input two lists of numbers\n",
    "    print(\"Enter the list of numbers with commas\")\n",
    "    inp_list1 = list(eval(input(\"Enter the first list :\")))\n",
    "    inp_list2 = list(eval(input(\"Enter the second list :\")))\n",
    "    # Print the deduplicated lists\n",
    "    print(\"List without duplicates :\")\n",
    "    print(\"List1=\",fn_dedup(inp_list1))\n",
    "    print(\"List2=\",fn_dedup(inp_list2))\n",
    "    # Print the common elements between the two input lists\n",
    "    print(\"Common Between Two Lists :\",end=\" \")\n",
    "    print(fn_find_common(inp_list1, inp_list2))\n"
   ]
  },
  {
   "cell_type": "code",
   "execution_count": null,
   "id": "b9b6c074",
   "metadata": {},
   "outputs": [],
   "source": []
  }
 ],
 "metadata": {
  "kernelspec": {
   "display_name": "Python 3 (ipykernel)",
   "language": "python",
   "name": "python3"
  },
  "language_info": {
   "codemirror_mode": {
    "name": "ipython",
    "version": 3
   },
   "file_extension": ".py",
   "mimetype": "text/x-python",
   "name": "python",
   "nbconvert_exporter": "python",
   "pygments_lexer": "ipython3",
   "version": "3.9.13"
  }
 },
 "nbformat": 4,
 "nbformat_minor": 5
}
