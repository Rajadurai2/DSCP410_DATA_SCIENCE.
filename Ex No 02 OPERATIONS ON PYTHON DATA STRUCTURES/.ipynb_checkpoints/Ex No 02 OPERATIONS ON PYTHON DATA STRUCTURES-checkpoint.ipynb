{
 "cells": [
  {
   "cell_type": "markdown",
   "id": "a14826c2",
   "metadata": {},
   "source": [
    "##### AIM: \n",
    "To develop Python programs to perform operations on Python Data Structures such as String, List, Tuple, Dictionary, and Set.\n"
   ]
  },
  {
   "cell_type": "markdown",
   "id": "b1e515d3",
   "metadata": {},
   "source": [
    "#####  STRINGS"
   ]
  },
  {
   "cell_type": "code",
   "execution_count": null,
   "id": "68a09f4e",
   "metadata": {},
   "outputs": [],
   "source": [
    "def fn_test_anagram(string1, string2):\n",
    "     string1_sorted = sorted(string1.lower())\n",
    "     string2_sorted = sorted(string2.lower())\n",
    "     if(string1_sorted == string2_sorted):\n",
    "         return True\n",
    "     else:\n",
    "         return False\n",
    "if __name__ == \"__main__\":\n",
    "     input1 = \"Binary\"\n",
    "     input2 = \"Brainy\"\n",
    "     print(fn_test_anagram(input1, input2))"
   ]
  },
  {
   "cell_type": "markdown",
   "id": "c1298754",
   "metadata": {},
   "source": [
    "##### DICTIONARY, LIST"
   ]
  },
  {
   "cell_type": "code",
   "execution_count": null,
   "id": "5568cc28",
   "metadata": {},
   "outputs": [],
   "source": [
    "def fn_clean_string(test_string, list_to_remove):\n",
    "     test_string = test_string.lower()\n",
    "     for item in list_to_remove:\n",
    "         test_string = test_string.replace(item, \"\")\n",
    "     return test_string\n",
    "def fn_word_frequency(test_string):\n",
    "     word_list = test_string.split()\n",
    "     word_count = []\n",
    "     for word in word_list:\n",
    "         word_count.append(word_list.count(word))\n",
    "     word_freq_dict = dict(list(zip(word_list, word_count)))\n",
    "     return word_freq_dict\n",
    "def fn_display_count(test_word, word_freq_dict):\n",
    "     test_word = test_word.lower()\n",
    "     if test_word in word_freq_dict.keys():\n",
    "         return word_freq_dict[test_word]\n",
    "     else:\n",
    "         return 0\n",
    "if __name__ == \"__main__\":\n",
    "     input_string = \"She sells seashells on the sea shore. The shells she sells are seashells, I'm sure. And if she sells seashells on the sea shore, Then I'm sure she sells seashore shells.\"\n",
    "     list_to_remove = [\".\", \",\", \"?\"]\n",
    "     clean_string = fn_clean_string(input_string, list_to_remove)\n",
    "     word_freq_dict = fn_word_frequency(clean_string)\n",
    "     test_word = \"Shells\"\n",
    "     print(fn_display_count(test_word, word_freq_dict))"
   ]
  },
  {
   "cell_type": "markdown",
   "id": "7b295aec",
   "metadata": {},
   "source": [
    "##### TUPLES, LIST"
   ]
  },
  {
   "cell_type": "code",
   "execution_count": null,
   "id": "ef0ac903",
   "metadata": {},
   "outputs": [],
   "source": [
    "E = lambda a, b : round(a/b, 2)\n",
    "def fn_create_tuple():\n",
    "    data_list = [( \"Zaheer Khan\", 10, 3, 60, 2),( \"Sreesanth\", 8, 0, 52, 0),( \"Munaf Patel\", 9, 0, 41, 0),\n",
    "                 ( \"Harbhajan Singh\", 10, 0, 50, 1) ,( \"Yuvraj Singh\", 10, 0, 49, 2),( \"Sachin Tendulkar\", 2, 0, 12, 0),( \"Virat Kohli\", 1, 0, 6, 0)]\n",
    "    return data_list\n",
    "def fn_inspect(player_name, data_list):\n",
    "     wickets, economy = None, None\n",
    "     for data_tuple in data_list:\n",
    "        if player_name in data_tuple:\n",
    "             wickets = data_tuple[4]\n",
    "             economy = E(data_tuple[3], data_tuple[1])\n",
    "        if wickets != None:\n",
    "             result_str = player_name + \" picked up \" + str(wickets) +\" wickets at an Economy of \" +str(economy) + \" RPO\"\n",
    "        else:\n",
    "            result_str = player_name + \" did not bowl in this match\"\n",
    "            return result_str\n",
    "if __name__ == \"__main__\":\n",
    "     data_list = fn_create_tuple()\n",
    "     player_name = \"Sreesanth\"\n",
    "     result_str = fn_inspect(player_name, data_list)\n",
    "     print(result_str)"
   ]
  },
  {
   "cell_type": "markdown",
   "id": "378dfea3",
   "metadata": {},
   "source": [
    "##### SET, LIST"
   ]
  },
  {
   "cell_type": "code",
   "execution_count": null,
   "id": "e6c99652",
   "metadata": {},
   "outputs": [],
   "source": [
    "def fn_dedup(x):\n",
    "     return(list(set(x)))\n",
    "def fn_find_common(x, y):\n",
    "     return(list(set(x).intersection(set(y))))\n",
    "if __name__ == \"__main__\":\n",
    "     inp_list1 = [11, 22, 33, 44, 33, 22, 1]\n",
    "     inp_list2 = [1, 2, 3, 4, 5, 6, 7, 8, 9, 10, 11, 12, 13]\n",
    "     print(fn_dedup(inp_list1))\n",
    "     print(fn_find_common(inp_list1, inp_list2))"
   ]
  }
 ],
 "metadata": {
  "kernelspec": {
   "display_name": "Python 3 (ipykernel)",
   "language": "python",
   "name": "python3"
  },
  "language_info": {
   "codemirror_mode": {
    "name": "ipython",
    "version": 3
   },
   "file_extension": ".py",
   "mimetype": "text/x-python",
   "name": "python",
   "nbconvert_exporter": "python",
   "pygments_lexer": "ipython3",
   "version": "3.9.13"
  }
 },
 "nbformat": 4,
 "nbformat_minor": 5
}
