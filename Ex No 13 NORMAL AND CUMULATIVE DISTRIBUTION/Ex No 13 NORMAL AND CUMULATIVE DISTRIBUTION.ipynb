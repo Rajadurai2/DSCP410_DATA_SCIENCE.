{
 "cells": [
  {
   "cell_type": "markdown",
   "id": "bb19afa8",
   "metadata": {},
   "source": [
    "##### AIM:\n",
    "To implement normal and cumulative distribution models using SciPy package.\n"
   ]
  },
  {
   "cell_type": "markdown",
   "id": "97f92287",
   "metadata": {},
   "source": [
    "#####  NORMAL DISTRIBUTION"
   ]
  },
  {
   "cell_type": "code",
   "execution_count": null,
   "id": "5a3df7de",
   "metadata": {},
   "outputs": [],
   "source": [
    "import numpy as np\n",
    "from matplotlib import pyplot\n",
    "from scipy.stats import norm"
   ]
  },
  {
   "cell_type": "code",
   "execution_count": null,
   "id": "da566716",
   "metadata": {},
   "outputs": [],
   "source": [
    "def fn_create_normalpdf():\n",
    "    height = np.linspace(150,180,100)\n",
    "    pyplot.hist(height,12)\n",
    "    pyplot.show()\n",
    "    mean_height = np.mean(height)\n",
    "    stdev_height = np.std(height) \n",
    "    pdf_height = norm.pdf(height, mean_height, stdev_height) \n",
    "    figure,ax = pyplot.subplots()\n",
    "    ax.set_xlabel('Adult Height')\n",
    "    ax.set_ylabel('Probabilities of Adult Height')\n",
    "    pyplot.plot(height, pdf_height)\n",
    "    pyplot.show()\n",
    "    pdf_params = [mean_height, stdev_height, pdf_height]\n",
    "    return pdf_params"
   ]
  },
  {
   "cell_type": "code",
   "execution_count": null,
   "id": "f4b9d665",
   "metadata": {},
   "outputs": [],
   "source": [
    "def fn_test(test_data, pdf_params):\n",
    "    mean_height = pdf_params[0]\n",
    "    stdev_height = pdf_params[1]\n",
    "    pdf_height = pdf_params[2]\n",
    "    pdf_test_data = norm.pdf(test_data, mean_height, stdev_height)\n",
    "    print(pdf_test_data)\n",
    "    min_pdf_height = min(pdf_height)\n",
    "    max_pdf_height = max(pdf_height)\n",
    "    if pdf_test_data >= min_pdf_height and pdf_test_data <= max_pdf_height:\n",
    "        result = 'test data is adult height '\n",
    "    else:\n",
    "        result = 'test data is not adult height '\n",
    "    return result"
   ]
  },
  {
   "cell_type": "code",
   "execution_count": null,
   "id": "55ec8c49",
   "metadata": {},
   "outputs": [],
   "source": [
    "if __name__ == \"__main__\":\n",
    "    pdf_params = fn_create_normalpdf()\n",
    "    test_data = 170\n",
    "    result = fn_test(test_data, pdf_params)\n",
    "    print(result)"
   ]
  },
  {
   "cell_type": "markdown",
   "id": "f7d3ba25",
   "metadata": {},
   "source": [
    "#####  CUMULATIVE DISTRIBUTION"
   ]
  },
  {
   "cell_type": "code",
   "execution_count": null,
   "id": "870aa62b",
   "metadata": {},
   "outputs": [],
   "source": [
    "import numpy as np\n",
    "from matplotlib import pyplot\n",
    "from scipy.stats import norm"
   ]
  },
  {
   "cell_type": "code",
   "execution_count": null,
   "id": "d83f95ba",
   "metadata": {},
   "outputs": [],
   "source": [
    "def fn_create_normalpdf():\n",
    "    height = np.linspace(150,180,100)\n",
    "    mean_height = np.mean(height)\n",
    "    stdev_height = np.std(height)\n",
    "    pdf_height = norm.pdf(height, mean_height, stdev_height)\n",
    "    pdf_params = [mean_height, stdev_height]\n",
    "    return(pdf_params)"
   ]
  },
  {
   "cell_type": "code",
   "execution_count": null,
   "id": "694f3a30",
   "metadata": {},
   "outputs": [],
   "source": [
    "def fn_test(test_data1, test_data2, pdf_params):\n",
    "    mean_height = pdf_params[0]\n",
    "    stdev_height = pdf_params[1]\n",
    "    prob_1 = norm(loc = mean_height , scale = stdev_height).cdf(test_data1)\n",
    "    cdf_upper_limit = norm(loc = mean_height , scale = stdev_height).cdf(test_data2)\n",
    "    cdf_lower_limit = norm(loc = mean_height , scale = stdev_height).cdf(test_data1)\n",
    "    prob_2 = cdf_upper_limit - cdf_lower_limit\n",
    "    cdf_value = norm(loc = mean_height , scale = stdev_height).cdf(test_data2)\n",
    "    prob_3 = 1- cdf_value\n",
    "    result = [prob_1, prob_2, prob_3]\n",
    "    return(result)"
   ]
  },
  {
   "cell_type": "code",
   "execution_count": null,
   "id": "3adefc5e",
   "metadata": {},
   "outputs": [],
   "source": [
    "if __name__ == \"__main__\":\n",
    "    pdf_params = fn_create_normalpdf()\n",
    "    test_data1 = 160\n",
    "    test_data2 = 170\n",
    "    result = fn_test(test_data1, test_data2, pdf_params)\n",
    "    print('Probability of height to be under 160cm is = ', result[0])\n",
    "    print('probability that the height of the person will be between 160 and 170 cm = ', result[1])\n",
    "    print('probability that the height of a person chosen randomly will be above 170 cm = ',result[2])"
   ]
  }
 ],
 "metadata": {
  "kernelspec": {
   "display_name": "Python 3 (ipykernel)",
   "language": "python",
   "name": "python3"
  },
  "language_info": {
   "codemirror_mode": {
    "name": "ipython",
    "version": 3
   },
   "file_extension": ".py",
   "mimetype": "text/x-python",
   "name": "python",
   "nbconvert_exporter": "python",
   "pygments_lexer": "ipython3",
   "version": "3.9.15"
  }
 },
 "nbformat": 4,
 "nbformat_minor": 5
}
