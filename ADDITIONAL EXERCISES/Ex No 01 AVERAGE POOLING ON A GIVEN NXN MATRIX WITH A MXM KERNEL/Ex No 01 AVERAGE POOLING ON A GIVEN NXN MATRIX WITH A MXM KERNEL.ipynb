{
 "cells": [
  {
   "cell_type": "markdown",
   "id": "24c1f4d2",
   "metadata": {},
   "source": [
    "##### AIM:\n",
    "To write a Python program to generate the factor pairs of a given integer."
   ]
  },
  {
   "cell_type": "code",
   "execution_count": null,
   "id": "bb5cfea5",
   "metadata": {},
   "outputs": [],
   "source": [
    "def fn_factor_pair(test_num):\n",
    "    factor_pair_list = []\n",
    "    factor_list = []\n",
    "    for num in range(1,test_num+1):\n",
    "        if test_num % num == 0:\n",
    "            factor_list.append(num)\n",
    "    len_factor_list = len(factor_list)\n",
    "    for iter_var1 in range(0, len_factor_list-1):\n",
    "        for iter_var2 in range(iter_var1, len_factor_list):\n",
    "             if factor_list[iter_var1]*factor_list[iter_var2] == test_num:\n",
    "                factor_pair_list.append((factor_list[iter_var1], factor_list[iter_var2]))\n",
    "    return factor_pair_list"
   ]
  },
  {
   "cell_type": "code",
   "execution_count": null,
   "id": "065ab42c",
   "metadata": {},
   "outputs": [],
   "source": [
    "if __name__ == \"__main__\":\n",
    "    input_num = 360\n",
    "    print(fn_factor_pair(input_num))"
   ]
  }
 ],
 "metadata": {
  "kernelspec": {
   "display_name": "Python 3 (ipykernel)",
   "language": "python",
   "name": "python3"
  },
  "language_info": {
   "codemirror_mode": {
    "name": "ipython",
    "version": 3
   },
   "file_extension": ".py",
   "mimetype": "text/x-python",
   "name": "python",
   "nbconvert_exporter": "python",
   "pygments_lexer": "ipython3",
   "version": "3.9.15"
  }
 },
 "nbformat": 4,
 "nbformat_minor": 5
}
