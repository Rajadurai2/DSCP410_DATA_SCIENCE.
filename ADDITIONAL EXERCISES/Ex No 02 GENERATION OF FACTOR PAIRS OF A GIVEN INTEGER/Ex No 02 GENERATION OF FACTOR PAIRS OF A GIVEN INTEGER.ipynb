{
 "cells": [
  {
   "cell_type": "markdown",
   "id": "1a3d9aae",
   "metadata": {},
   "source": [
    "#### AIM:\n",
    "To perform “average pooling” on a given n x n matrix with a m x m kernel."
   ]
  },
  {
   "cell_type": "code",
   "execution_count": null,
   "id": "66728373",
   "metadata": {},
   "outputs": [],
   "source": [
    "import numpy as np"
   ]
  },
  {
   "cell_type": "code",
   "execution_count": null,
   "id": "addc3aca",
   "metadata": {},
   "outputs": [],
   "source": [
    "def fn_create_avg_pool(data_array, k_size):\n",
    "    avg_pool_matrix = np.zeros((len(data_array)-k_size+1, len(data_array)-k_size+1));\n",
    "    for ix_r in range(0, len(data_array)-k_size+1):\n",
    "        for ix_c in range(0, len(data_array)-k_size+1):\n",
    "            temp_np = np.array([])\n",
    "            for k_ix_r in range(ix_r, ix_r+k_size):\n",
    "                for k_ix_c in range(ix_c, ix_c+k_size):\n",
    "                    temp_np = np.append(temp_np, [data_array[k_ix_r, k_ix_c]])\n",
    "                    avg_pool_matrix[ix_r, ix_c] = np.average(temp_np)\n",
    "    return avg_pool_matrix"
   ]
  },
  {
   "cell_type": "code",
   "execution_count": null,
   "id": "2c4ab6cc",
   "metadata": {},
   "outputs": [],
   "source": [
    "if __name__ == \"__main__\":\n",
    "    np.random.seed(3);\n",
    "    input_data = np.random.randint(20, size=(4, 4)); print(input_data)\n",
    "    input_k_size = 2;\n",
    "    result_mat = fn_create_avg_pool(input_data, input_k_size)\n",
    "    print(result_mat)"
   ]
  }
 ],
 "metadata": {
  "kernelspec": {
   "display_name": "Python 3 (ipykernel)",
   "language": "python",
   "name": "python3"
  },
  "language_info": {
   "codemirror_mode": {
    "name": "ipython",
    "version": 3
   },
   "file_extension": ".py",
   "mimetype": "text/x-python",
   "name": "python",
   "nbconvert_exporter": "python",
   "pygments_lexer": "ipython3",
   "version": "3.9.15"
  }
 },
 "nbformat": 4,
 "nbformat_minor": 5
}
