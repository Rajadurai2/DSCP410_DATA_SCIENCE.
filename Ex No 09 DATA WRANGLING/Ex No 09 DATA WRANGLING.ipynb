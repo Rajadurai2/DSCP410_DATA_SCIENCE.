{
 "cells": [
  {
   "cell_type": "markdown",
   "id": "063aceab",
   "metadata": {},
   "source": [
    "##### AIM:\n",
    "To perform data wrangling using Pandas."
   ]
  },
  {
   "cell_type": "code",
   "execution_count": null,
   "id": "00a1f3e1",
   "metadata": {},
   "outputs": [],
   "source": [
    "import pandas as pd\n",
    "import numpy as np"
   ]
  },
  {
   "cell_type": "code",
   "execution_count": null,
   "id": "d0191d57",
   "metadata": {},
   "outputs": [],
   "source": [
    "def fn_get_model_myct(df):\n",
    "    df_mean = pd.pivot_table(df, values=[\"MYCT\", \"MMIN\", \"MMAX\", \"CACH\", \"CHMIN\",\"CHMAX\", \"PRP\"], columns=\"vendor name\", aggfunc = np.mean)\n",
    "    df_median = pd.pivot_table(df, values=[\"MYCT\", \"MMIN\", \"MMAX\", \"CACH\", \"CHMIN\",\"CHMAX\", \"PRP\"], columns=\"vendor name\", aggfunc = np.mean)\n",
    "    df_myct_mean = pd.DataFrame({\"vendor name\" : list(df_mean.columns),\"Mean MYCT\":df_mean.values.tolist()[5]})\n",
    "    df_melt_models = pd.melt(df, id_vars =[\"vendor name\"], value_vars =[\"Model Name\"])\n",
    "    df_melt_myct_mean = pd.melt(df_myct_mean, id_vars =[\"vendor name\"], value_vars=[\"Mean MYCT\"])\n",
    "    data_model_myct = pd.concat([df_melt_models, df_melt_myct_mean], ignore_index=True)\n",
    "    return data_model_myct"
   ]
  },
  {
   "cell_type": "code",
   "execution_count": null,
   "id": "e07e0112",
   "metadata": {},
   "outputs": [],
   "source": [
    "if __name__ == \"__main__\":\n",
    "    data_frame_ip = pd.read_csv(\"machine.data\", index_col=None, header=None,\n",
    "    names=[\"vendor name\", \"Model Name\", \"MYCT\", \"MMIN\", \"MMAX\", \"CACH\", \"CHMIN\",\"CHMAX\", \"PRP\", \"ERP\"])\n",
    "    data_model_myct = fn_get_model_myct(data_frame_ip)\n",
    "    print(data_model_myct)"
   ]
  }
 ],
 "metadata": {
  "kernelspec": {
   "display_name": "Python 3 (ipykernel)",
   "language": "python",
   "name": "python3"
  },
  "language_info": {
   "codemirror_mode": {
    "name": "ipython",
    "version": 3
   },
   "file_extension": ".py",
   "mimetype": "text/x-python",
   "name": "python",
   "nbconvert_exporter": "python",
   "pygments_lexer": "ipython3",
   "version": "3.9.15"
  }
 },
 "nbformat": 4,
 "nbformat_minor": 5
}
