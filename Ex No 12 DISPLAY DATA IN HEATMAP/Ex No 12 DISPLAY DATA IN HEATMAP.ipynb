{
 "cells": [
  {
   "cell_type": "markdown",
   "id": "6a603864",
   "metadata": {},
   "source": [
    "##### AIM:\n",
    "To display data in the form of Heatmap.\n"
   ]
  },
  {
   "cell_type": "code",
   "execution_count": null,
   "id": "acfb4941",
   "metadata": {},
   "outputs": [],
   "source": [
    "import pandas as pd\n",
    "import numpy as np\n",
    "import seaborn as sns\n",
    "import matplotlib.pyplot as plt"
   ]
  },
  {
   "cell_type": "code",
   "execution_count": null,
   "id": "bd150b13",
   "metadata": {},
   "outputs": [],
   "source": [
    "df = pd.read_csv(\"machine.data\", index_col=None, header=None, names=[\"vendor name\",\"Model Name\", \"MYCT\", \"MMIN\", \"MMAX\", \"CACH\", \"CHMIN\", \"CHMAX\", \"PRP\", \"ERP\"])\n",
    "df_mean_sub = pd.pivot_table(df, values=[\"MMIN\", \"MMAX\"], columns=\"vendor name\", aggfunc = np.mean)"
   ]
  },
  {
   "cell_type": "code",
   "execution_count": null,
   "id": "413483af",
   "metadata": {},
   "outputs": [],
   "source": [
    "h_map = sns.heatmap(df_mean_sub, annot=False)\n",
    "plt.show()"
   ]
  }
 ],
 "metadata": {
  "kernelspec": {
   "display_name": "Python 3 (ipykernel)",
   "language": "python",
   "name": "python3"
  },
  "language_info": {
   "codemirror_mode": {
    "name": "ipython",
    "version": 3
   },
   "file_extension": ".py",
   "mimetype": "text/x-python",
   "name": "python",
   "nbconvert_exporter": "python",
   "pygments_lexer": "ipython3",
   "version": "3.9.15"
  }
 },
 "nbformat": 4,
 "nbformat_minor": 5
}
