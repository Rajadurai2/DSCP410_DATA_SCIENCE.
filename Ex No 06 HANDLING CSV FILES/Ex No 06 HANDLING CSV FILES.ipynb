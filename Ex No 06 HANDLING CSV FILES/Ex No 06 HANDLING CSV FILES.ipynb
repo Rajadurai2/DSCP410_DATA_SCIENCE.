{
 "cells": [
  {
   "cell_type": "markdown",
   "id": "ad71df87",
   "metadata": {},
   "source": [
    "##### AIM:\n",
    "To read from and write onto CSV files using Pandas package."
   ]
  },
  {
   "cell_type": "code",
   "execution_count": 1,
   "id": "a4780cbf",
   "metadata": {},
   "outputs": [],
   "source": [
    "import pandas as pd\n",
    "import datetime\n",
    "import numpy as np"
   ]
  },
  {
   "cell_type": "code",
   "execution_count": 2,
   "id": "3c2c76a5",
   "metadata": {},
   "outputs": [],
   "source": [
    "# Function to extract the high and low values of a given dataframe within a specific date range\n",
    "def fn_extract_high_low(data_frame):\n",
    "    # Dropping the last column of the dataframe in place\n",
    "    data_frame.drop(data_frame.columns[-1], axis=1, inplace=True)\n",
    "    # Converting the \"Date\" column to a datetime format\n",
    "    data_frame[\"Date\"] = pd.to_datetime(data_frame[\"Date\"])\n",
    "    # Defining the start and end dates for the date range\n",
    "    start_date = datetime.datetime.strptime('2018-03-31', '%Y-%m-%d')\n",
    "    end_date = datetime.datetime.strptime('2019-04-01', '%Y-%m-%d')\n",
    "    # Filtering the dataframe to include only rows within the defined date range\n",
    "    df_fy = data_frame[(data_frame[\"Date\"] > start_date) & (data_frame[\"Date\"] < end_date)] \n",
    "    # Finding the max value of the \"High\" column in the filtered dataframe\n",
    "    fy_high = df_fy[\"High\"].max()\n",
    "    # Finding the min value of the \"Low\" column in the filtered dataframe\n",
    "    fy_low = df_fy[\"Low\"].min()\n",
    "    # Returning the high and low values and the filtered dataframe\n",
    "    return fy_high, fy_low, df_fy\n"
   ]
  },
  {
   "cell_type": "code",
   "execution_count": 4,
   "id": "ac3bee1f",
   "metadata": {},
   "outputs": [
    {
     "name": "stdout",
     "output_type": "stream",
     "text": [
      "S&P BSE SENSEX High & Low in FY2019-20:  38989.65  &  32972.56\n"
     ]
    }
   ],
   "source": [
    "# Main function\n",
    "if __name__ == \"__main__\":\n",
    "    # Reading in a CSV file and creating a dataframe from it\n",
    "    data_frame_ip = pd.read_csv(\"csv_base_sensex_2018to2020.csv\", index_col=None)\n",
    "    # Extracting the high, low values and filtered dataframe\n",
    "    fy_high, fy_low, df_fy = fn_extract_high_low(data_frame_ip)\n",
    "    # Saving the filtered dataframe to a new CSV file\n",
    "    df_fy.to_csv(\"sensex_fy2019-20.csv\", sep=',', index=False)\n",
    "    # Printing the high and low values\n",
    "    print(\"S&P BSE SENSEX High & Low in FY2019-20: \", fy_high, \" & \", fy_low)\n"
   ]
  },
  {
   "cell_type": "code",
   "execution_count": null,
   "id": "333f99ff",
   "metadata": {},
   "outputs": [],
   "source": []
  }
 ],
 "metadata": {
  "kernelspec": {
   "display_name": "Python 3",
   "language": "python",
   "name": "python3"
  },
  "language_info": {
   "codemirror_mode": {
    "name": "ipython",
    "version": 3
   },
   "file_extension": ".py",
   "mimetype": "text/x-python",
   "name": "python",
   "nbconvert_exporter": "python",
   "pygments_lexer": "ipython3",
   "version": "3.11.1"
  },
  "vscode": {
   "interpreter": {
    "hash": "65ea76b1289f3dbbc5918dfe8a55b288dd5bc05eb08380fa990096533c1b1f70"
   }
  }
 },
 "nbformat": 4,
 "nbformat_minor": 5
}
