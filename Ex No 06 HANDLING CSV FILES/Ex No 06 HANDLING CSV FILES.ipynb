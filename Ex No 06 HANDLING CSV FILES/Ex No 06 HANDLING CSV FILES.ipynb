{
 "cells": [
  {
   "cell_type": "markdown",
   "id": "ad71df87",
   "metadata": {},
   "source": [
    "##### AIM:\n",
    "To read from and write onto CSV files using Pandas package."
   ]
  },
  {
   "cell_type": "code",
   "execution_count": null,
   "id": "a4780cbf",
   "metadata": {},
   "outputs": [],
   "source": [
    "import pandas as pd\n",
    "import datetime\n",
    "import numpy as np"
   ]
  },
  {
   "cell_type": "code",
   "execution_count": null,
   "id": "3c2c76a5",
   "metadata": {},
   "outputs": [],
   "source": [
    "def fn_extract_high_low(data_frame):\n",
    "    data_frame.drop(data_frame.columns[-1], axis=1, inplace=True)\n",
    "    data_frame[\"Date\"] = pd.to_datetime(data_frame[\"Date\"], format='%d-%B-%Y')\n",
    "    start_date = datetime.datetime.strptime('2018-03-31', '%m-%d-%Y')\n",
    "    end_date = datetime.datetime.strptime('2019-04-01', '%m-%d-%Y')\n",
    "    df_fy = data_frame[(data_frame[\"Date\"] > start_date) & (data_frame[\"Date\"] < end_date)] \n",
    "    fy_high = df_fy[\"High\"].max()\n",
    "    fy_low = df_fy[\"Low\"].min()\n",
    "\n",
    "    return fy_high, fy_low, df_fy"
   ]
  },
  {
   "cell_type": "code",
   "execution_count": null,
   "id": "ac3bee1f",
   "metadata": {},
   "outputs": [],
   "source": [
    "if __name__ == \"__main__\":\n",
    "    data_frame_ip = pd.read_csv(\"csv_base_sensex_2018to2020.csv\", index_col=None)\n",
    "    fy_high, fy_low, df_fy = fn_extract_high_low(data_frame_ip)\n",
    "    df_fy.to_csv(\"sensex_fy2019-20.csv\", sep=',', index=False)\n",
    "    print(\"S&P BSE SENSEX High & Low in FY2019-20: \", fy_high, \" & \", fy_low)"
   ]
  }
 ],
 "metadata": {
  "kernelspec": {
   "display_name": "Python 3 (ipykernel)",
   "language": "python",
   "name": "python3"
  },
  "language_info": {
   "codemirror_mode": {
    "name": "ipython",
    "version": 3
   },
   "file_extension": ".py",
   "mimetype": "text/x-python",
   "name": "python",
   "nbconvert_exporter": "python",
   "pygments_lexer": "ipython3",
   "version": "3.9.15"
  }
 },
 "nbformat": 4,
 "nbformat_minor": 5
}
