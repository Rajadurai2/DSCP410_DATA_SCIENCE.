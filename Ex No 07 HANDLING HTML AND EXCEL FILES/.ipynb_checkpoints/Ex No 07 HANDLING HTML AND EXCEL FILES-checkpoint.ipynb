{
 "cells": [
  {
   "cell_type": "markdown",
   "id": "117944b7",
   "metadata": {},
   "source": [
    "##### AIM:\n",
    "To write Python program to handle HTML and EXCEL files."
   ]
  },
  {
   "cell_type": "code",
   "execution_count": 1,
   "id": "d05f3bdb",
   "metadata": {},
   "outputs": [],
   "source": [
    "import pandas as pd"
   ]
  },
  {
   "cell_type": "code",
   "execution_count": 4,
   "id": "6571e3f0",
   "metadata": {},
   "outputs": [],
   "source": [
    "def fn_irnss_df(target_URL, target_table):\n",
    "    irnss_data = pd.read_html(target_URL, match=target_table)\n",
    "    irnss_df = irnss_data[0]\n",
    "    display(irnss_df)\n",
    "    irnss_df_sub = irnss_df[~irnss_df['Status'].str.contains('Planned')]\n",
    "    irnss_df_sub['Launch Date'] = pd.to_datetime(irnss_df_sub['Launch Date'], format='%d %B %Y')\n",
    "    irnss_df_sub = irnss_df_sub.sort_values(by='Launch Date', ascending=False)\n",
    "    irnss_df_sub['Launch Date'] = irnss_df_sub['Launch Date'].apply(lambda x: x.strftime('%d %B%Y'))\n",
    "    return irnss_df_sub"
   ]
  },
  {
   "cell_type": "code",
   "execution_count": 5,
   "id": "19887cc4",
   "metadata": {},
   "outputs": [
    {
     "data": {
      "text/plain": [
       "[  Satellite   SVN  PRN Int. Sat. ID  NORAD ID      Launch Date Launch Vehicle  \\\n",
       " 0  IRNSS-1A  I001  I01    2013-034A   39199.0      1 July 2013    PSLV-XL-C22   \n",
       " 1  IRNSS-1B  I002  I02    2014-017A   39635.0     4 April 2014    PSLV-XL-C24   \n",
       " 2  IRNSS-1C  I003  I03    2014-061A   40269.0  16 October 2014    PSLV-XL-C26   \n",
       " 3  IRNSS-1D  I004  I04    2015-018A   40547.0    28 March 2015    PSLV-XL-C27   \n",
       " 4  IRNSS-1E  I005  I05    2016-003A   41241.0  20 January 2016    PSLV-XL-C31   \n",
       " 5  IRNSS-1F  I006  I06    2016-015A   41384.0    10 March 2016    PSLV-XL-C32   \n",
       " 6  IRNSS-1G  I007  I07    2016-027A   41469.0    28 April 2016    PSLV-XL-C33   \n",
       " 7  IRNSS-1H   NaN  NaN          NaN       NaN   31 August 2017    PSLV-XL-C39   \n",
       " 8  IRNSS-1I  I009  NaN    2018-035A   43286.0    12 April 2018    PSLV-XL-C41   \n",
       " \n",
       "                                                Orbit           Status  \\\n",
       " 0   Geosynchronous (IGSO) / 55°E, 29° inclined orbit  Partial Failure   \n",
       " 1   Geosynchronous (IGSO) / 55°E, 29° inclined orbit      Operational   \n",
       " 2      Geostationary (GEO) / 83°E, 5° inclined orbit      Operational   \n",
       " 3  Geosynchronous (IGSO) / 111.75°E, 31° inclined...      Operational   \n",
       " 4  Geosynchronous (IGSO) / 111.75°E, 29° inclined...      Operational   \n",
       " 5    Geostationary (GEO) / 32.5°E, 5° inclined orbit      Operational   \n",
       " 6  Geostationary (GEO) / 129.5°E, 5.1° inclined o...      Operational   \n",
       " 7                                                NaN    Launch Failed   \n",
       " 8   Geosynchronous (IGSO) / 55°E, 29° inclined orbit      Operational   \n",
       " \n",
       "                                              Remarks  \n",
       " 0  Atomic clocks failed.The satellite is being us...  \n",
       " 1                                                NaN  \n",
       " 2                                                NaN  \n",
       " 3                                                NaN  \n",
       " 4                                                NaN  \n",
       " 5                                                NaN  \n",
       " 6  The satellite is being used for NavIC's short ...  \n",
       " 7  The payload fairing failed to separate and sat...  \n",
       " 8                                               [67]  ]"
      ]
     },
     "metadata": {},
     "output_type": "display_data"
    }
   ],
   "source": [
    "if __name__ == \"__main__\":\n",
    "    target_URL = \"https://en.wikipedia.org/wiki/Indian_Regional_Navigation_Satellite_System\"\n",
    "    target_table = \"IRNSS-1 series satellites\"\n",
    "    df_out = fn_irnss_df(target_URL, target_table)\n",
    "    df_out.to_excel(r'result.xlsx', sheet_name='IRNSS Launch', index = False)"
   ]
  },
  {
   "cell_type": "code",
   "execution_count": null,
   "id": "22ec32d9",
   "metadata": {},
   "outputs": [],
   "source": []
  }
 ],
 "metadata": {
  "kernelspec": {
   "display_name": "Python 3 (ipykernel)",
   "language": "python",
   "name": "python3"
  },
  "language_info": {
   "codemirror_mode": {
    "name": "ipython",
    "version": 3
   },
   "file_extension": ".py",
   "mimetype": "text/x-python",
   "name": "python",
   "nbconvert_exporter": "python",
   "pygments_lexer": "ipython3",
   "version": "3.9.13"
  }
 },
 "nbformat": 4,
 "nbformat_minor": 5
}
