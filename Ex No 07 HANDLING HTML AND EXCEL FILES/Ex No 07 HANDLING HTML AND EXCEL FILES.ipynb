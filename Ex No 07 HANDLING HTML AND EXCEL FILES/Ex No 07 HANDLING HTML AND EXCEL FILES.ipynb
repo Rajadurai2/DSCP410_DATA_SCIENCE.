{
 "cells": [
  {
   "cell_type": "markdown",
   "id": "117944b7",
   "metadata": {},
   "source": [
    "##### AIM:\n",
    "To write Python program to handle HTML and EXCEL files."
   ]
  },
  {
   "cell_type": "code",
   "execution_count": null,
   "id": "d05f3bdb",
   "metadata": {},
   "outputs": [],
   "source": [
    "import pandas as pd"
   ]
  },
  {
   "cell_type": "code",
   "execution_count": null,
   "id": "6571e3f0",
   "metadata": {},
   "outputs": [],
   "source": [
    "def fn_irnss_df(target_URL, target_table):\n",
    "    irnss_data = pd.read_html(target_URL, match=target_table)\n",
    "    irnss_df = irnss_data[0]\n",
    "    irnss_df_sub = irnss_df[~irnss_df['Status'].str.contains('Planned')]\n",
    "    irnss_df_sub['Launch Date'] = pd.to_datetime(irnss_df_sub['Launch Date'], format='%d %B %Y')\n",
    "    irnss_df_sub = irnss_df_sub.sort_values(by='Launch Date', ascending=False)\n",
    "    irnss_df_sub['Launch Date'] = irnss_df_sub['Launch Date'].apply(lambda x: x.strftime('%d %B%Y'))\n",
    "    return irnss_df_sub"
   ]
  },
  {
   "cell_type": "code",
   "execution_count": null,
   "id": "19887cc4",
   "metadata": {},
   "outputs": [],
   "source": [
    "if __name__ == \"__main__\":\n",
    "    target_URL = \"https://en.wikipedia.org/wiki/Indian_Regional_Navigation_Satellite_System\"\n",
    "    target_table = \"IRNSS-1 series satellites\"\n",
    "    df_out = fn_irnss_df(target_URL, target_table)\n",
    "    df_out.to_excel(r'result.xlsx', sheet_name='IRNSS Launch', index = False)"
   ]
  }
 ],
 "metadata": {
  "kernelspec": {
   "display_name": "Python 3 (ipykernel)",
   "language": "python",
   "name": "python3"
  },
  "language_info": {
   "codemirror_mode": {
    "name": "ipython",
    "version": 3
   },
   "file_extension": ".py",
   "mimetype": "text/x-python",
   "name": "python",
   "nbconvert_exporter": "python",
   "pygments_lexer": "ipython3",
   "version": "3.9.15"
  }
 },
 "nbformat": 4,
 "nbformat_minor": 5
}
