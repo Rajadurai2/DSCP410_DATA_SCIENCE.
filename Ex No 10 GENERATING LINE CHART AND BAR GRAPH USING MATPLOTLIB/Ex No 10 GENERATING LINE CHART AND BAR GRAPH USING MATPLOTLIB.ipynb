{
 "cells": [
  {
   "cell_type": "markdown",
   "id": "1269597f",
   "metadata": {},
   "source": [
    "##### AIM:\n",
    "To use Matplotlib for plotting line chart and bar graph.\n"
   ]
  },
  {
   "cell_type": "code",
   "execution_count": null,
   "id": "5b909dd9",
   "metadata": {},
   "outputs": [],
   "source": [
    "import statsmodels.api as sm\n",
    "import matplotlib.pyplot as plt"
   ]
  },
  {
   "cell_type": "code",
   "execution_count": null,
   "id": "51d9c073",
   "metadata": {},
   "outputs": [],
   "source": [
    "df = sm.datasets.copper.load_pandas().data"
   ]
  },
  {
   "cell_type": "markdown",
   "id": "a3939147",
   "metadata": {},
   "source": [
    "#####  LINE CHART"
   ]
  },
  {
   "cell_type": "code",
   "execution_count": null,
   "id": "e7843d2e",
   "metadata": {},
   "outputs": [],
   "source": [
    "fig1 = plt.figure() \n",
    "ax1 = plt.subplot(2,1,1)\n",
    "ax2 = plt.subplot(2,1,2)\n",
    "ax1_x = range(1951,1975+1)\n",
    "ax1_y = df[\"COPPERPRICE\"].values\n",
    "ax1.plot(ax1_x, ax1_y, color='orange', ls='--')\n",
    "ax2_x = range(1951,1975+1)\n",
    "ax2_y = df[\"ALUMPRICE\"].values\n",
    "ax2.plot(ax2_x, ax2_y, color='blue', ls='-.')\n",
    "ax1.set(xlabel='Time', ylabel='Copper price', title = \"Copper & Aluminum Price\")\n",
    "ax2.set(xlabel='Time', ylabel='Aluminum price')"
   ]
  },
  {
   "cell_type": "markdown",
   "id": "4d5bc637",
   "metadata": {},
   "source": [
    "#####  BAR GRAPH"
   ]
  },
  {
   "cell_type": "code",
   "execution_count": null,
   "id": "103d43f8",
   "metadata": {},
   "outputs": [],
   "source": [
    "x = range(1951,1975+1)\n",
    "y1 = df[\"WORLDCONSUMPTION\"].values\n",
    "y2 = df[\"INVENTORYINDEX\"].values"
   ]
  },
  {
   "cell_type": "code",
   "execution_count": null,
   "id": "9ca462a3",
   "metadata": {},
   "outputs": [],
   "source": [
    "fig2, ax1 = plt.subplots(figsize=(15,8))\n",
    "ax2 = ax1.twinx()\n",
    "ax1.bar(x, y1, color = 'cyan', zorder=2)\n",
    "ax1.set_xlabel('Year')\n",
    "ax1.set_ylabel('World Consumption in 1000 metric tons')\n",
    "ax2.plot(x, y2, 'r-*', label = \"Manuf. inventory trend\", zorder=1)\n",
    "ax2.legend(loc=\"upper left\")\n",
    "plt.show()"
   ]
  }
 ],
 "metadata": {
  "kernelspec": {
   "display_name": "Python 3 (ipykernel)",
   "language": "python",
   "name": "python3"
  },
  "language_info": {
   "codemirror_mode": {
    "name": "ipython",
    "version": 3
   },
   "file_extension": ".py",
   "mimetype": "text/x-python",
   "name": "python",
   "nbconvert_exporter": "python",
   "pygments_lexer": "ipython3",
   "version": "3.9.15"
  }
 },
 "nbformat": 4,
 "nbformat_minor": 5
}
