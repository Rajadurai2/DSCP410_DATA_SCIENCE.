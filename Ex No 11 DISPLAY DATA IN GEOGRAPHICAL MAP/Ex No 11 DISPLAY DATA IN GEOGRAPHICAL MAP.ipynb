{
 "cells": [
  {
   "cell_type": "markdown",
   "id": "e2f6b7ff",
   "metadata": {},
   "source": [
    "##### AIM:\n",
    "To use the GeoPandas package to plot data in geographical map."
   ]
  },
  {
   "cell_type": "code",
   "execution_count": null,
   "id": "96af9932",
   "metadata": {},
   "outputs": [],
   "source": [
    "import geopandas\n",
    "import matplotlib.pyplot as plt"
   ]
  },
  {
   "cell_type": "code",
   "execution_count": null,
   "id": "b0bc9c91",
   "metadata": {},
   "outputs": [],
   "source": [
    "world = geopandas.read_file(geopandas.datasets.get_path('naturalearth_lowres'))\n",
    "world = world[(world.name==\"India\")]"
   ]
  },
  {
   "cell_type": "code",
   "execution_count": null,
   "id": "0248b342",
   "metadata": {},
   "outputs": [],
   "source": [
    "fig, ax = plt.subplots(1, 1)\n",
    "world.plot(column='gdp_md_est', ax=ax, legend=True, cmap='BuGn')"
   ]
  }
 ],
 "metadata": {
  "kernelspec": {
   "display_name": "Python 3 (ipykernel)",
   "language": "python",
   "name": "python3"
  },
  "language_info": {
   "codemirror_mode": {
    "name": "ipython",
    "version": 3
   },
   "file_extension": ".py",
   "mimetype": "text/x-python",
   "name": "python",
   "nbconvert_exporter": "python",
   "pygments_lexer": "ipython3",
   "version": "3.9.15"
  }
 },
 "nbformat": 4,
 "nbformat_minor": 5
}
