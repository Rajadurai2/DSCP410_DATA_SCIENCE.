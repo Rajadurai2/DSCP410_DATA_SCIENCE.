{
 "cells": [
  {
   "cell_type": "markdown",
   "id": "7a34970c",
   "metadata": {},
   "source": [
    "##### AIM:\n",
    "To write a Python program to read and process text file"
   ]
  },
  {
   "cell_type": "code",
   "execution_count": 1,
   "id": "5ef55c56",
   "metadata": {},
   "outputs": [],
   "source": [
    "def fn_read_process(f_name):\n",
    "    doc_as_word = []\n",
    "    with open(f_name, \"rt\") as f_obj:\n",
    "        doc_as_words =[word for line in f_obj for word in line.split()]\n",
    "    doc_as_words = [elem.lower() for elem in doc_as_words]\n",
    "    char_to_clean = '''!;:'\"\\, ./?@#$%^&*_~'''\n",
    "    doc_as_words_clean = []\n",
    "    for list_entry in doc_as_words:\n",
    "        flag = False\n",
    "        for entry in list_entry:\n",
    "            if entry in char_to_clean:\n",
    "                flag = True\n",
    "                list_entry = list_entry.replace(entry, \"\")\n",
    "                doc_as_words_clean.append(list_entry)\n",
    "            if flag == False:\n",
    "                doc_as_words_clean.append(list_entry)\n",
    "        return doc_as_words_clean"
   ]
  },
  {
   "cell_type": "code",
   "execution_count": 2,
   "id": "c197daa1",
   "metadata": {},
   "outputs": [],
   "source": [
    "def fn_count_freq(words, test_word):\n",
    "     return words.count(test_word.lower())"
   ]
  },
  {
   "cell_type": "code",
   "execution_count": 3,
   "id": "b55d20fb",
   "metadata": {},
   "outputs": [
    {
     "name": "stdout",
     "output_type": "stream",
     "text": [
      "0\n"
     ]
    }
   ],
   "source": [
    "if __name__ == \"__main__\":\n",
    "    words_list = fn_read_process(f_name='TxtSample.txt')\n",
    "    print(fn_count_freq(words_list, test_word=\"scientist\"))"
   ]
  },
  {
   "cell_type": "code",
   "execution_count": null,
   "id": "20ac7e49",
   "metadata": {},
   "outputs": [],
   "source": []
  }
 ],
 "metadata": {
  "kernelspec": {
   "display_name": "Python 3 (ipykernel)",
   "language": "python",
   "name": "python3"
  },
  "language_info": {
   "codemirror_mode": {
    "name": "ipython",
    "version": 3
   },
   "file_extension": ".py",
   "mimetype": "text/x-python",
   "name": "python",
   "nbconvert_exporter": "python",
   "pygments_lexer": "ipython3",
   "version": "3.9.13"
  }
 },
 "nbformat": 4,
 "nbformat_minor": 5
}
