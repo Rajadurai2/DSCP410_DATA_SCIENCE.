{
 "cells": [
  {
   "cell_type": "markdown",
   "id": "0ab20430",
   "metadata": {},
   "source": [
    "##### AIM:\n",
    "To use the SciPy package to conduct hypothesis testing.\n"
   ]
  },
  {
   "cell_type": "code",
   "execution_count": null,
   "id": "609e694f",
   "metadata": {},
   "outputs": [],
   "source": [
    "from scipy.stats import ttest_1samp\n",
    "import numpy as np"
   ]
  },
  {
   "cell_type": "code",
   "execution_count": null,
   "id": "a386f44c",
   "metadata": {},
   "outputs": [],
   "source": [
    "def one_sample_t_test(test_data):\n",
    "    height = np.array([165,170,160,154,175,155,167,177,158,178])\n",
    "    print(height)\n",
    "    height_mean = np.mean(height)\n",
    "    print('Mean Height = ', height_mean)\n",
    "    tset, pval = ttest_1samp(height, test_data)\n",
    "    print('p-values are: ', pval)\n",
    "    if pval < 0.05: \n",
    "        result = 'we are rejecting null hypothesis '\n",
    "    else:\n",
    "        result = 'we are accepting null hypothesis '\n",
    "    return result"
   ]
  },
  {
   "cell_type": "code",
   "execution_count": null,
   "id": "0172b2d0",
   "metadata": {},
   "outputs": [],
   "source": [
    "if __name__ == \"__main__\":\n",
    "    test_data = 170\n",
    "    result = one_sample_t_test(test_data)\n",
    "    print(result)"
   ]
  }
 ],
 "metadata": {
  "kernelspec": {
   "display_name": "Python 3 (ipykernel)",
   "language": "python",
   "name": "python3"
  },
  "language_info": {
   "codemirror_mode": {
    "name": "ipython",
    "version": 3
   },
   "file_extension": ".py",
   "mimetype": "text/x-python",
   "name": "python",
   "nbconvert_exporter": "python",
   "pygments_lexer": "ipython3",
   "version": "3.9.15"
  }
 },
 "nbformat": 4,
 "nbformat_minor": 5
}
