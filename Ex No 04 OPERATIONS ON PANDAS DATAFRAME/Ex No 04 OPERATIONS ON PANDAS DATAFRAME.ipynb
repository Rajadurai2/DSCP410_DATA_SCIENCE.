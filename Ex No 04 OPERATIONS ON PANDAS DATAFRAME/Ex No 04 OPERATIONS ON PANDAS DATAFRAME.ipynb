{
 "cells": [
  {
   "cell_type": "markdown",
   "id": "5972e561",
   "metadata": {},
   "source": [
    "##### AIM:\n",
    "To perform operations on Pandas DataFrame.\n"
   ]
  },
  {
   "cell_type": "code",
   "execution_count": null,
   "id": "587cc474",
   "metadata": {},
   "outputs": [],
   "source": [
    "import pandas as pd\n",
    "import numpy as np"
   ]
  },
  {
   "cell_type": "code",
   "execution_count": null,
   "id": "5241acfd",
   "metadata": {},
   "outputs": [],
   "source": [
    "dictionary = {'RollNo.': [501, 502, 503, 504, 505, 506, 507, 508, 509, 510, 511, 512],\n",
    " 'Name': ['Ram.N.K', 'Kumar.A', 'Kavi.S', 'Malar.M', 'Seetha.P.', 'Kishore.L', 'Amit.M ',\n",
    "'Daniel.R', 'Shyam.M.', 'Priya.N', 'Mani.R.', 'Ravi.S'],\n",
    " 'Attend8': [92, 100, 100, 100, 76, 96, 100, 92, 68, 52, 72, 80],\n",
    " 'Attend9' : [84, 95, 90, 100, 42, 84, 95, 100, 53, 16, 53, np.nan],\n",
    " 'Attend10': [100, 100, 94, 100, 31, 81, 100, 100, 94, 13, 88, 6],\n",
    " 'Assignment' : [15, 13, 14, 14, 13, 14, 14, 14, 5, np.nan, np.nan, np.nan],\n",
    " 'Test' : [19, 14, 19, 18, 17, 19, 19, 19, 18, '-', 18, '-' ]\n",
    " }"
   ]
  },
  {
   "cell_type": "markdown",
   "id": "064b9516",
   "metadata": {},
   "source": [
    "##### convert dictionary to pandas dataframe"
   ]
  },
  {
   "cell_type": "code",
   "execution_count": null,
   "id": "9b582ee1",
   "metadata": {},
   "outputs": [],
   "source": [
    "df = pd.DataFrame(dictionary)\n",
    "print(df)"
   ]
  },
  {
   "cell_type": "markdown",
   "id": "b8558bd3",
   "metadata": {},
   "source": [
    "###### Check for missing values"
   ]
  },
  {
   "cell_type": "code",
   "execution_count": null,
   "id": "dfa4bf5d",
   "metadata": {},
   "outputs": [],
   "source": [
    "print('Count of missing values: \\n' , df.isnull().sum())"
   ]
  },
  {
   "cell_type": "markdown",
   "id": "d735f162",
   "metadata": {},
   "source": [
    "##### Fill missing values in Attend9 with 0"
   ]
  },
  {
   "cell_type": "code",
   "execution_count": null,
   "id": "1d51f8b1",
   "metadata": {},
   "outputs": [],
   "source": [
    "df['Attend9'] = df['Attend9'].fillna(0)\n",
    "print(df['Attend9'])"
   ]
  },
  {
   "cell_type": "markdown",
   "id": "f7545e38",
   "metadata": {},
   "source": [
    "######  Fill missing values with minimum value in Assignment and Replace by 0 in Test"
   ]
  },
  {
   "cell_type": "code",
   "execution_count": null,
   "id": "aeef2de4",
   "metadata": {},
   "outputs": [],
   "source": [
    "df['Assignment'] = df['Assignment'].fillna(df['Assignment'].min())\n",
    "df = df.replace(['-'], 0)\n",
    "print(df)"
   ]
  },
  {
   "cell_type": "markdown",
   "id": "56aa284c",
   "metadata": {},
   "source": [
    "###### Select rows based on conditions >=80, <80 and >=70, <70 for August Attendance"
   ]
  },
  {
   "cell_type": "code",
   "execution_count": null,
   "id": "ddf97ab2",
   "metadata": {},
   "outputs": [],
   "source": [
    "result80above_df = df[(df['Attend8']>=80)]\n",
    "result70to80_df = df[(df['Attend8']<80) & (df['Attend8']>=70)]\n",
    "result70below_df = df.loc[df['Attend8']<70]\n",
    "print('Attendance above 80 \\n', result80above_df)\n",
    "print('Attendance between 70 and 80 \\n', result70to80_df)\n",
    "print('Attendance below 70 \\n', result70below_df)"
   ]
  },
  {
   "cell_type": "markdown",
   "id": "e9b3a510",
   "metadata": {},
   "source": [
    "###### Arrange and display students in decreasing order of September attendance"
   ]
  },
  {
   "cell_type": "code",
   "execution_count": null,
   "id": "ceca96df",
   "metadata": {},
   "outputs": [],
   "source": [
    "Attend9sorted_df = df.sort_values(by='Attend9', ascending=False)\n",
    "print('Sorted September Attendance \\n')\n",
    "display(Attend9sorted_df.loc[:,['RollNo.','Name','Attend9']])"
   ]
  },
  {
   "cell_type": "markdown",
   "id": "8d66a436",
   "metadata": {},
   "source": [
    "#####  Find students with 100% attendance for all three months together and include/display consolidated attendance as last column"
   ]
  },
  {
   "cell_type": "code",
   "execution_count": null,
   "id": "627dda3c",
   "metadata": {},
   "outputs": [],
   "source": [
    "sum_df = df['Attend8'] + df['Attend9'] + df['Attend10']\n",
    "finalattend_df = sum_df/3\n",
    "df['Consolidated Attendance'] = finalattend_df\n",
    "print('Consolidated Attendance = \\n', df)"
   ]
  },
  {
   "cell_type": "markdown",
   "id": "7f78ccf1",
   "metadata": {},
   "source": [
    "##### Display the details of students who scored maximum marks in test"
   ]
  },
  {
   "cell_type": "code",
   "execution_count": null,
   "id": "2935de6c",
   "metadata": {},
   "outputs": [],
   "source": [
    "Test_max = df['Test'].max()\n",
    "Assign_max = df['Assignment'].max()\n",
    "print('Details of students who scored maximum marks in Test = \\n')\n",
    "display(df.loc[df['Test']==df['Test'].max()])"
   ]
  },
  {
   "cell_type": "markdown",
   "id": "de3fd0ed",
   "metadata": {},
   "source": [
    "###### Display details of students whose Assignment marks is < than average of Assignment marks"
   ]
  },
  {
   "cell_type": "code",
   "execution_count": null,
   "id": "e2f3a367",
   "metadata": {},
   "outputs": [],
   "source": [
    "Assign_mean = df['Assignment'].mean()\n",
    "print('Details of students whose Assignment marks is less than Average of Assignment marks:\\n')\n",
    "display(df[(df['Assignment']< Assign_mean)])"
   ]
  },
  {
   "cell_type": "markdown",
   "id": "e9e8e64e",
   "metadata": {},
   "source": [
    "###### Display Result='Pass' if the student has scored > than 20 in assignment+test put together"
   ]
  },
  {
   "cell_type": "code",
   "execution_count": null,
   "id": "3fcadf79",
   "metadata": {},
   "outputs": [],
   "source": [
    "df['Result'] = df['Assignment']+ df['Test']\n",
    "df['Result'] = df['Result'].apply(lambda x: 'Pass' if x >= 20 else 'Fail')\n",
    "display(df)"
   ]
  }
 ],
 "metadata": {
  "kernelspec": {
   "display_name": "Python 3 (ipykernel)",
   "language": "python",
   "name": "python3"
  },
  "language_info": {
   "codemirror_mode": {
    "name": "ipython",
    "version": 3
   },
   "file_extension": ".py",
   "mimetype": "text/x-python",
   "name": "python",
   "nbconvert_exporter": "python",
   "pygments_lexer": "ipython3",
   "version": "3.9.15"
  }
 },
 "nbformat": 4,
 "nbformat_minor": 5
}
