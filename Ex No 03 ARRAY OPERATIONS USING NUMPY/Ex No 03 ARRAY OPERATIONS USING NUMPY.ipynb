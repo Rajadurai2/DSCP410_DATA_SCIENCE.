{
 "cells": [
  {
   "cell_type": "markdown",
   "id": "96be8ab6",
   "metadata": {},
   "source": [
    "##### AIM:\n",
    "To write Python program to perform simple arithmetic operations on 2D arrays using\n",
    "NumPy package."
   ]
  },
  {
   "cell_type": "code",
   "execution_count": null,
   "id": "0f5c937e",
   "metadata": {},
   "outputs": [],
   "source": [
    "import numpy as np"
   ]
  },
  {
   "cell_type": "code",
   "execution_count": null,
   "id": "581036c7",
   "metadata": {},
   "outputs": [],
   "source": [
    "def fn_mat_sum(mat_a, mat_b):\n",
    "     if mat_a.shape == mat_b.shape:\n",
    "         mat_sum = mat_a + mat_b\n",
    "     else:\n",
    "         mat_sum = None\n",
    "     return mat_sum"
   ]
  },
  {
   "cell_type": "code",
   "execution_count": null,
   "id": "388d6569",
   "metadata": {},
   "outputs": [],
   "source": [
    "def fn_mat_diff(mat_a, mat_b):\n",
    "     if mat_a.shape == mat_b.shape:\n",
    "         mat_diff = mat_a - mat_b\n",
    "     else:\n",
    "         mat_diff = None\n",
    "     return mat_diff"
   ]
  },
  {
   "cell_type": "code",
   "execution_count": null,
   "id": "ce7b7275",
   "metadata": {},
   "outputs": [],
   "source": [
    "def fn_mat_mul(mat_a, mat_b):\n",
    "     if mat_a.shape[1] == mat_b.shape[0]:\n",
    "        mat_mul = np.dot(mat_a, mat_b)\n",
    "     else:\n",
    "        mat_mul = None\n",
    "     return mat_mul"
   ]
  },
  {
   "cell_type": "code",
   "execution_count": null,
   "id": "cddbf575",
   "metadata": {},
   "outputs": [],
   "source": [
    "def fn_subset_mat(mat, r1, c1, r2, c2):\n",
    "     if (r1>-1) and (c1>-1) and (r1<r2) and (c1<c2) and r2<mat.shape[0] and c2<mat.shape[1]:\n",
    "         res = mat[r1:r2, c1:c2]\n",
    "     else:\n",
    "         res = None\n",
    "     return res"
   ]
  },
  {
   "cell_type": "code",
   "execution_count": null,
   "id": "ee5983f7",
   "metadata": {},
   "outputs": [],
   "source": [
    "if __name__ == \"__main__\":\n",
    "     np.random.seed(3);\n",
    "     ip_mat_a = np.random.randint(1, 20, size=(3, 3)); print(ip_mat_a)\n",
    "     ip_mat_b = np.random.randint(1, 20, size=(3, 3)); print(ip_mat_b)\n",
    "     ip_mat_c = np.random.randint(1, 20, size=(5, 5)); print(ip_mat_c)\n",
    "     res_sum = fn_mat_sum(ip_mat_a, ip_mat_b)\n",
    "     res_diff = fn_mat_diff(ip_mat_a, ip_mat_b)\n",
    "     res_mul = fn_mat_mul(ip_mat_a, ip_mat_b)\n",
    "     res_subset_mat = fn_subset_mat(ip_mat_c, r1=1, c1=1, r2=3, c2=3)\n",
    "     print(\"Sum:\\n\", res_sum)\n",
    "     print(\"Diff:\\n\", res_diff)\n",
    "     print(\"Mult:\\n\", res_mul)\n",
    "     print(\"Subset:\\n\",res_subset_mat)"
   ]
  }
 ],
 "metadata": {
  "kernelspec": {
   "display_name": "Python 3 (ipykernel)",
   "language": "python",
   "name": "python3"
  },
  "language_info": {
   "codemirror_mode": {
    "name": "ipython",
    "version": 3
   },
   "file_extension": ".py",
   "mimetype": "text/x-python",
   "name": "python",
   "nbconvert_exporter": "python",
   "pygments_lexer": "ipython3",
   "version": "3.9.15"
  }
 },
 "nbformat": 4,
 "nbformat_minor": 5
}
