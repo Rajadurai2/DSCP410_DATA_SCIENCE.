{
 "cells": [
  {
   "cell_type": "markdown",
   "id": "423092b5",
   "metadata": {},
   "source": [
    "##### AIM:\n",
    "To perform reading, data cleaning, processing and writing operations in CSV files using\n",
    "Pandas package."
   ]
  },
  {
   "cell_type": "code",
   "execution_count": null,
   "id": "73d8c748",
   "metadata": {},
   "outputs": [],
   "source": [
    "import pandas"
   ]
  },
  {
   "cell_type": "code",
   "execution_count": null,
   "id": "f30d9ec7",
   "metadata": {},
   "outputs": [],
   "source": [
    "def fn_compute_gfinal(data_frame):\n",
    "    if data_frame.isnull().values.any():\n",
    "        print(\"Detected NaN, replacing with 0\")\n",
    "        data_frame.fillna(0)\n",
    "    else:\n",
    "        data_frame.drop(columns=['G3'], inplace=True);\n",
    "        data_frame.insert(len(data_frame.columns), 'Gfinal', '');\n",
    "        data_frame['Gfinal']=(data_frame['G1'] + data_frame['G2'])*100/40;\n",
    "        df_50plus = data_frame[data_frame['Gfinal'] >= 50]\n",
    "        df_below50 = data_frame[data_frame['Gfinal'] < 50]\n",
    "    return df_50plus, df_below50"
   ]
  },
  {
   "cell_type": "code",
   "execution_count": null,
   "id": "f403cbf3",
   "metadata": {},
   "outputs": [],
   "source": [
    "if __name__ == \"__main__\":\n",
    "    data_frame_ip = pandas.read_csv(\"student-mat.csv\", delimiter=\";\")\n",
    "    df_50plus_op, df_below50_op = fn_compute_gfinal(data_frame_ip)\n",
    "    df_50plus_op.to_csv(\"result_50plus.csv\", sep=',', index=False)\n",
    "    df_below50_op.to_csv(\"result_below50.csv\", sep=',', index=False)"
   ]
  },
  {
   "cell_type": "code",
   "execution_count": null,
   "id": "b030962a",
   "metadata": {},
   "outputs": [],
   "source": [
    "result_50plus = pandas.read_csv(\"result_50plus.csv\")\n",
    "result_50plus"
   ]
  },
  {
   "cell_type": "code",
   "execution_count": null,
   "id": "4cc974b4",
   "metadata": {},
   "outputs": [],
   "source": [
    "result_below50 = pandas.read_csv(\"result_below50.csv\")\n",
    "result_below50"
   ]
  }
 ],
 "metadata": {
  "kernelspec": {
   "display_name": "Python 3 (ipykernel)",
   "language": "python",
   "name": "python3"
  },
  "language_info": {
   "codemirror_mode": {
    "name": "ipython",
    "version": 3
   },
   "file_extension": ".py",
   "mimetype": "text/x-python",
   "name": "python",
   "nbconvert_exporter": "python",
   "pygments_lexer": "ipython3",
   "version": "3.9.15"
  }
 },
 "nbformat": 4,
 "nbformat_minor": 5
}
